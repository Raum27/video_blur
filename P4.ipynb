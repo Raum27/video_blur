{
 "cells": [
  {
   "cell_type": "code",
   "execution_count": 8,
   "metadata": {},
   "outputs": [
    {
     "data": {
      "text/plain": [
       "{'divide': 'ignore', 'over': 'warn', 'under': 'ignore', 'invalid': 'ignore'}"
      ]
     },
     "execution_count": 8,
     "metadata": {},
     "output_type": "execute_result"
    }
   ],
   "source": [
    "import cv2,mmcv\n",
    "from PIL import Image, ImageDraw\n",
    "import numpy as np\n",
    "import time\n",
    "from numpy import dot\n",
    "from numpy.linalg import norm\n",
    "# from sklearn.metrics.pairwise import cosine_similarity\n",
    "np.seterr(divide='ignore', invalid='ignore')"
   ]
  },
  {
   "cell_type": "code",
   "execution_count": 10,
   "metadata": {},
   "outputs": [],
   "source": [
    "def cosine_similarity(a, b):\n",
    "    a = np.array(a,dtype=np.float32)\n",
    "    b = np.array(b,dtype=np.float32)\n",
    "    value_AB = dot(a, b) / (norm(a) * norm(b))\n",
    "    return 0.0 if value_AB != value_AB else value_AB"
   ]
  },
  {
   "cell_type": "code",
   "execution_count": 12,
   "metadata": {},
   "outputs": [
    {
     "name": "stdout",
     "output_type": "stream",
     "text": [
      "Frames:  4488\n"
     ]
    }
   ],
   "source": [
    "# cosine_similarity frame\n",
    "video = mmcv.VideoReader(r\"C:\\Users\\Raum\\Desktop\\jec\\code\\dataface\\netflix.mp4\")\n",
    "# video = mmcv.VideoReader(r\"C:\\Users\\Raum\\Desktop\\jec\\code\\dataface\\videoplayback.mp4\")\n",
    "print('Frames: ',len(video))\n",
    "masker = 1\n",
    "arr = np.zeros(len(video))\n",
    "walk1 =0\n",
    "walk2 =1\n",
    "for i in range(len(video)-1):\n",
    "    frame_1 = cv2.resize(video[walk1],(224,224)).reshape(-1)\n",
    "    frame_2 = cv2.resize(video[walk2],(224,224)).reshape(-1)\n",
    "    if cosine_similarity(frame_1,frame_2) ==0.0:\n",
    "        arr[walk1] = -1 \n",
    "        arr[walk2] = -1 \n",
    "    if cosine_similarity(frame_1,frame_2) >= 0.85:\n",
    "        arr[walk1] = masker\n",
    "        arr[walk2] = masker\n",
    "    else:\n",
    "        arr[walk1] = masker\n",
    "        masker +=1\n",
    "        arr[walk2] = masker\n",
    "    walk1 +=1\n",
    "    walk2 +=1\n",
    " "
   ]
  },
  {
   "cell_type": "code",
   "execution_count": 22,
   "metadata": {},
   "outputs": [
    {
     "name": "stdout",
     "output_type": "stream",
     "text": [
      "0.84919065\n"
     ]
    },
    {
     "data": {
      "text/plain": [
       "True"
      ]
     },
     "execution_count": 22,
     "metadata": {},
     "output_type": "execute_result"
    }
   ],
   "source": [
    "a = 288\n",
    "b = 289\n",
    "frame_1 = cv2.resize(video[a],(224,224)).reshape(-1)\n",
    "frame_2 = cv2.resize(video[b],(224,224)).reshape(-1)\n",
    "print(cosine_similarity(frame_1,frame_2))\n",
    "frame_1 = cv2.resize(video[a],(224,224))\n",
    "frame_2 = cv2.resize(video[b],(224,224))\n",
    "cv2.imwrite('a1.jpg',frame_1)\n",
    "cv2.imwrite('a2.jpg',frame_2)"
   ]
  },
  {
   "cell_type": "code",
   "execution_count": 14,
   "metadata": {},
   "outputs": [],
   "source": [
    "# for j,i in enumerate(arr):\n",
    "#     print(j+1,i)\n",
    " "
   ]
  },
  {
   "cell_type": "code",
   "execution_count": 18,
   "metadata": {},
   "outputs": [],
   "source": [
    "values, index_frame = np.unique(arr,return_index=True)"
   ]
  },
  {
   "cell_type": "code",
   "execution_count": 19,
   "metadata": {},
   "outputs": [
    {
     "data": {
      "text/plain": [
       "array([  1.,   2.,   3.,   4.,   5.,   6.,   7.,   8.,   9.,  10.,  11.,\n",
       "        12.,  13.,  14.,  15.,  16.,  17.,  18.,  19.,  20.,  21.,  22.,\n",
       "        23.,  24.,  25.,  26.,  27.,  28.,  29.,  30.,  31.,  32.,  33.,\n",
       "        34.,  35.,  36.,  37.,  38.,  39.,  40.,  41.,  42.,  43.,  44.,\n",
       "        45.,  46.,  47.,  48.,  49.,  50.,  51.,  52.,  53.,  54.,  55.,\n",
       "        56.,  57.,  58.,  59.,  60.,  61.,  62.,  63.,  64.,  65.,  66.,\n",
       "        67.,  68.,  69.,  70.,  71.,  72.,  73.,  74.,  75.,  76.,  77.,\n",
       "        78.,  79.,  80.,  81.,  82.,  83.,  84.,  85.,  86.,  87.,  88.,\n",
       "        89.,  90.,  91.,  92.,  93.,  94.,  95.,  96.,  97.,  98.,  99.,\n",
       "       100., 101., 102., 103., 104., 105., 106., 107., 108., 109., 110.,\n",
       "       111., 112., 113., 114., 115., 116., 117., 118., 119., 120., 121.,\n",
       "       122., 123., 124., 125., 126., 127., 128., 129., 130., 131., 132.,\n",
       "       133., 134., 135., 136., 137., 138., 139., 140., 141., 142., 143.,\n",
       "       144., 145., 146., 147., 148., 149., 150., 151., 152., 153., 154.,\n",
       "       155., 156., 157., 158., 159., 160., 161., 162., 163., 164., 165.,\n",
       "       166., 167., 168., 169., 170., 171., 172., 173., 174., 175., 176.,\n",
       "       177., 178., 179., 180., 181., 182., 183., 184., 185., 186., 187.,\n",
       "       188., 189., 190., 191., 192., 193., 194., 195., 196., 197., 198.,\n",
       "       199., 200., 201., 202., 203., 204., 205., 206., 207., 208., 209.,\n",
       "       210., 211., 212., 213., 214., 215., 216., 217., 218., 219., 220.,\n",
       "       221., 222., 223., 224., 225., 226.])"
      ]
     },
     "execution_count": 19,
     "metadata": {},
     "output_type": "execute_result"
    }
   ],
   "source": [
    "values"
   ]
  },
  {
   "cell_type": "code",
   "execution_count": 20,
   "metadata": {},
   "outputs": [
    {
     "data": {
      "text/plain": [
       "array([   0,   36,   83,  125,  164,  206,  226,  289,  318,  413,  454,\n",
       "        484,  515,  533,  576,  596,  617,  636,  698,  731,  919,  920,\n",
       "        921,  922,  923,  924,  955, 1022, 1043, 1060, 1085, 1095, 1110,\n",
       "       1126, 1187, 1208, 1239, 1310, 1311, 1312, 1313, 1314, 1315, 1316,\n",
       "       1317, 1318, 1357, 1373, 1393, 1412, 1438, 1479, 1548, 1581, 1600,\n",
       "       1613, 1644, 1662, 1682, 1709, 1746, 1767, 1799, 1830, 1849, 1869,\n",
       "       1893, 1928, 1947, 2037, 2061, 2062, 2070, 2097, 2112, 2118, 2139,\n",
       "       2162, 2166, 2168, 2169, 2170, 2173, 2178, 2179, 2180, 2181, 2182,\n",
       "       2183, 2184, 2185, 2186, 2187, 2188, 2189, 2190, 2191, 2200, 2201,\n",
       "       2210, 2226, 2247, 2281, 2314, 2374, 2408, 2428, 2495, 2597, 2618,\n",
       "       2620, 2659, 2700, 2741, 2804, 2838, 2879, 2930, 2954, 2963, 3002,\n",
       "       3023, 3044, 3106, 3132, 3161, 3174, 3183, 3194, 3227, 3237, 3264,\n",
       "       3287, 3297, 3319, 3330, 3372, 3427, 3450, 3478, 3539, 3560, 3601,\n",
       "       3626, 3696, 3697, 3698, 3699, 3700, 3701, 3705, 3706, 3707, 3708,\n",
       "       3732, 3733, 3739, 3740, 3741, 3742, 3743, 3744, 3745, 3746, 3747,\n",
       "       3748, 3749, 3750, 3751, 3752, 3753, 3754, 3755, 3756, 3757, 3758,\n",
       "       3759, 3760, 3761, 3762, 3763, 3764, 3765, 3766, 3767, 3768, 3769,\n",
       "       3770, 3771, 3772, 3773, 3774, 3775, 3861, 4039, 4040, 4041, 4042,\n",
       "       4079, 4080, 4081, 4082, 4083, 4085, 4086, 4087, 4088, 4089, 4090,\n",
       "       4091, 4092, 4110, 4133, 4170, 4171, 4172, 4173, 4174, 4177, 4178,\n",
       "       4179, 4180, 4181, 4182, 4183, 4184], dtype=int64)"
      ]
     },
     "execution_count": 20,
     "metadata": {},
     "output_type": "execute_result"
    }
   ],
   "source": [
    "index_frame"
   ]
  },
  {
   "cell_type": "code",
   "execution_count": null,
   "metadata": {},
   "outputs": [],
   "source": [
    "# ai predict frame\n",
    "from mtcnn.mtcnn import MTCNN\n",
    "detector = MTCNN()"
   ]
  }
 ],
 "metadata": {
  "kernelspec": {
   "display_name": "my_envg",
   "language": "python",
   "name": "python3"
  },
  "language_info": {
   "codemirror_mode": {
    "name": "ipython",
    "version": 3
   },
   "file_extension": ".py",
   "mimetype": "text/x-python",
   "name": "python",
   "nbconvert_exporter": "python",
   "pygments_lexer": "ipython3",
   "version": "3.10.6"
  }
 },
 "nbformat": 4,
 "nbformat_minor": 2
}
